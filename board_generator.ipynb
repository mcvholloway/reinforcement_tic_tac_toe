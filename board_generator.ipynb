{
 "cells": [
  {
   "cell_type": "code",
   "execution_count": 110,
   "metadata": {},
   "outputs": [],
   "source": [
    "from game import ConnectFourGame\n",
    "from copy import deepcopy\n",
    "import random\n",
    "import numpy as np\n",
    "from tqdm.notebook import tqdm"
   ]
  },
  {
   "cell_type": "code",
   "execution_count": 3,
   "metadata": {},
   "outputs": [],
   "source": [
    "game = ConnectFourGame()"
   ]
  },
  {
   "cell_type": "markdown",
   "metadata": {},
   "source": [
    "Need:\n",
    "\n",
    "For _ in range(25):\n",
    "0. Store board.\n",
    "1. List valid actions. \n",
    "2. Randomly choose an action.\n",
    "3. Execute the action, get the new state and check for game over.\n",
    "\n",
    "    if game over\n",
    "        if player == 2 \n",
    "            negate the board\n",
    "        roll back, break\n",
    "        \n",
    "Check whether each column results in player 1 winning. (Call find next state for each of the 7 actions and grab the game_over indicator as our label).\n",
    "Store the results somehow."
   ]
  },
  {
   "cell_type": "code",
   "execution_count": 111,
   "metadata": {},
   "outputs": [
    {
     "data": {
      "application/vnd.jupyter.widget-view+json": {
       "model_id": "ada209e797404119a465d67a0f15bcb8",
       "version_major": 2,
       "version_minor": 0
      },
      "text/plain": [
       "HBox(children=(FloatProgress(value=0.0, max=10000.0), HTML(value='')))"
      ]
     },
     "metadata": {},
     "output_type": "display_data"
    },
    {
     "name": "stdout",
     "output_type": "stream",
     "text": [
      "\n"
     ]
    }
   ],
   "source": [
    "boards = []\n",
    "\n",
    "for _ in tqdm(range(10000)): \n",
    "    old_board = game.board\n",
    "\n",
    "    for _ in range(25):\n",
    "        action = random.choice(game.list_valid_actions(old_board))\n",
    "\n",
    "        new_board, _, game_over, _ = game.find_next_state(old_board, action)\n",
    "\n",
    "        if game_over:\n",
    "            #print('GAME OVER!')\n",
    "\n",
    "            new_board = old_board\n",
    "\n",
    "\n",
    "            break\n",
    "\n",
    "        old_board = new_board\n",
    "\n",
    "        #game.pretty_print_board(old_board)\n",
    "        #print('&&&&&&&&&&&&&&&&&&&&&&&&&&&&&&&&&&&&&&&&&&&')\n",
    "\n",
    "    labels = []\n",
    "    for i in range(7):\n",
    "        if i not in game.list_valid_actions(old_board):\n",
    "            labels.append(0)\n",
    "        else:\n",
    "            _, _, game_over, _ = game.find_next_state(old_board, i)\n",
    "            labels.append(int(game_over))\n",
    "\n",
    "    if np.array(old_board).sum().sum() == 1:\n",
    "        old_board = -np.array(old_board)\n",
    "\n",
    "    boards.append(\",\".join([str(int(x)) for x in list(np.array(old_board).reshape(42,)) + labels]))\n",
    "\n",
    "with open('data/boards.csv', 'w+') as fi:\n",
    "    fi.write('\\n'.join(boards))"
   ]
  }
 ],
 "metadata": {
  "kernelspec": {
   "display_name": "Python 3",
   "language": "python",
   "name": "python3"
  },
  "language_info": {
   "codemirror_mode": {
    "name": "ipython",
    "version": 3
   },
   "file_extension": ".py",
   "mimetype": "text/x-python",
   "name": "python",
   "nbconvert_exporter": "python",
   "pygments_lexer": "ipython3",
   "version": "3.8.3"
  }
 },
 "nbformat": 4,
 "nbformat_minor": 4
}
