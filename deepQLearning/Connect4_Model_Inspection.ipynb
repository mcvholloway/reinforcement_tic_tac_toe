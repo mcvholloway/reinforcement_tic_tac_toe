{
 "cells": [
  {
   "cell_type": "code",
   "execution_count": 30,
   "id": "continent-feedback",
   "metadata": {},
   "outputs": [],
   "source": [
    "import numpy as np\n",
    "# from tensorflow import keras\n",
    "import keras\n",
    "import warnings \n",
    "\n",
    "warnings.filterwarnings('ignore')"
   ]
  },
  {
   "cell_type": "code",
   "execution_count": 31,
   "id": "backed-offer",
   "metadata": {},
   "outputs": [],
   "source": [
    "model = keras.models.load_model('connectFourModel.h5')"
   ]
  },
  {
   "cell_type": "code",
   "execution_count": 32,
   "id": "empty-repair",
   "metadata": {},
   "outputs": [
    {
     "name": "stdout",
     "output_type": "stream",
     "text": [
      "Model: \"sequential_1\"\n",
      "_________________________________________________________________\n",
      "Layer (type)                 Output Shape              Param #   \n",
      "=================================================================\n",
      "dense_1 (Dense)              (None, 24)                1032      \n",
      "_________________________________________________________________\n",
      "dense_2 (Dense)              (None, 12)                300       \n",
      "_________________________________________________________________\n",
      "dense_3 (Dense)              (None, 7)                 91        \n",
      "=================================================================\n",
      "Total params: 1,423\n",
      "Trainable params: 1,423\n",
      "Non-trainable params: 0\n",
      "_________________________________________________________________\n"
     ]
    }
   ],
   "source": [
    "model.summary()"
   ]
  },
  {
   "cell_type": "code",
   "execution_count": 33,
   "id": "higher-delay",
   "metadata": {},
   "outputs": [],
   "source": [
    "from game import ConnectFourGame"
   ]
  },
  {
   "cell_type": "code",
   "execution_count": 34,
   "id": "fossil-elder",
   "metadata": {},
   "outputs": [],
   "source": [
    "c4 = ConnectFourGame()"
   ]
  },
  {
   "cell_type": "code",
   "execution_count": 39,
   "id": "emerging-proceeding",
   "metadata": {},
   "outputs": [
    {
     "data": {
      "text/plain": [
       "array([[0., 0., 0., 0., 0., 0., 0., 0., 0., 0., 0., 0., 0., 0., 0., 0.,\n",
       "        0., 0., 0., 0., 0., 0., 0., 0., 0., 0., 0., 0., 0., 0., 0., 0.,\n",
       "        0., 0., 0., 0., 0., 1., 0., 0., 0., 0.]])"
      ]
     },
     "execution_count": 39,
     "metadata": {},
     "output_type": "execute_result"
    }
   ],
   "source": [
    "c4.board.reshape(1,42)"
   ]
  },
  {
   "cell_type": "code",
   "execution_count": 60,
   "id": "damaged-communication",
   "metadata": {},
   "outputs": [
    {
     "name": "stdout",
     "output_type": "stream",
     "text": [
      "[[-0.1965141  -0.02424935  0.00651042  0.01899655 -0.00363833  0.01666942\n",
      "   0.01118224]]\n",
      "3\n"
     ]
    }
   ],
   "source": [
    "print(model.predict(c4.board.reshape(1,42)))\n",
    "print(np.argmax(model.predict(c4.board.reshape(1,42))))"
   ]
  },
  {
   "cell_type": "code",
   "execution_count": 58,
   "id": "paperback-montana",
   "metadata": {},
   "outputs": [
    {
     "data": {
      "text/plain": [
       "(0, False, False)"
      ]
     },
     "execution_count": 58,
     "metadata": {},
     "output_type": "execute_result"
    }
   ],
   "source": [
    "c4.update_board(5)"
   ]
  },
  {
   "cell_type": "code",
   "execution_count": 59,
   "id": "plain-replacement",
   "metadata": {},
   "outputs": [
    {
     "name": "stdout",
     "output_type": "stream",
     "text": [
      "  |   |   |   |   |   |  \n",
      "- + - + - + - + - + - + -\n",
      "  |   | x |   |   |   |  \n",
      "- + - + - + - + - + - + -\n",
      "  |   | o |   |   |   |  \n",
      "- + - + - + - + - + - + -\n",
      "  |   | o | x | o |   |  \n",
      "- + - + - + - + - + - + -\n",
      "  |   | o | x | x |   |  \n",
      "- + - + - + - + - + - + -\n",
      "  |   | x | x | o | o |  \n"
     ]
    }
   ],
   "source": [
    "c4.pretty_print_board(c4.board)"
   ]
  },
  {
   "cell_type": "code",
   "execution_count": null,
   "id": "rapid-german",
   "metadata": {},
   "outputs": [],
   "source": [
    "[[-0.18903092  0.00504179  0.01730911  0.02036701  0.00531153  0.00814302\n",
    "   0.01759067]]"
   ]
  },
  {
   "cell_type": "code",
   "execution_count": null,
   "id": "unexpected-exercise",
   "metadata": {},
   "outputs": [],
   "source": []
  },
  {
   "cell_type": "code",
   "execution_count": null,
   "id": "automotive-defensive",
   "metadata": {},
   "outputs": [],
   "source": []
  },
  {
   "cell_type": "code",
   "execution_count": null,
   "id": "durable-musical",
   "metadata": {},
   "outputs": [],
   "source": []
  },
  {
   "cell_type": "code",
   "execution_count": null,
   "id": "universal-slope",
   "metadata": {},
   "outputs": [],
   "source": []
  },
  {
   "cell_type": "code",
   "execution_count": null,
   "id": "mental-machinery",
   "metadata": {},
   "outputs": [],
   "source": []
  },
  {
   "cell_type": "code",
   "execution_count": null,
   "id": "hundred-right",
   "metadata": {},
   "outputs": [],
   "source": []
  },
  {
   "cell_type": "code",
   "execution_count": null,
   "id": "civilian-bedroom",
   "metadata": {},
   "outputs": [],
   "source": []
  }
 ],
 "metadata": {
  "kernelspec": {
   "display_name": "Python 3",
   "language": "python",
   "name": "python3"
  },
  "language_info": {
   "codemirror_mode": {
    "name": "ipython",
    "version": 3
   },
   "file_extension": ".py",
   "mimetype": "text/x-python",
   "name": "python",
   "nbconvert_exporter": "python",
   "pygments_lexer": "ipython3",
   "version": "3.7.9"
  }
 },
 "nbformat": 4,
 "nbformat_minor": 5
}
